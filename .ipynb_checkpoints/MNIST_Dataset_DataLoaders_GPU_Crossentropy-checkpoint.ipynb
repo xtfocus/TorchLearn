{
 "cells": [
  {
   "cell_type": "markdown",
   "metadata": {},
   "source": [
    "Source:\n",
    "https://pytorch.org/tutorials/beginner/nn_tutorial.html"
   ]
  },
  {
   "cell_type": "code",
   "execution_count": 1,
   "metadata": {},
   "outputs": [],
   "source": [
    "from pathlib import Path\n",
    "import requests\n",
    "\n",
    "DATA_PATH = Path(\"data\")\n",
    "PATH = DATA_PATH / \"mnist\"\n",
    "\n",
    "PATH.mkdir(parents=True, exist_ok=True)\n",
    "\n",
    "URL = \"https://github.com/pytorch/tutorials/raw/master/_static/\"\n",
    "FILENAME = \"mnist.pkl.gz\"\n",
    "\n",
    "if not (PATH / FILENAME).exists():\n",
    "        content = requests.get(URL + FILENAME).content\n",
    "        (PATH / FILENAME).open(\"wb\").write(content)"
   ]
  },
  {
   "cell_type": "markdown",
   "metadata": {},
   "source": [
    "This dataset is in numpy array format, and has been stored using pickle, a python-specific format for serializing data"
   ]
  },
  {
   "cell_type": "code",
   "execution_count": 2,
   "metadata": {},
   "outputs": [],
   "source": [
    "import pickle\n",
    "import gzip\n",
    "\n",
    "with gzip.open((PATH / FILENAME).as_posix(), \"rb\") as f:\n",
    "        ((x_train, y_train), (x_valid, y_valid), _) = pickle.load(f, encoding=\"latin-1\")"
   ]
  },
  {
   "cell_type": "markdown",
   "metadata": {},
   "source": [
    "Each image is 28 x 28, and **is being stored as a flattened row** of length 784:"
   ]
  },
  {
   "cell_type": "code",
   "execution_count": 3,
   "metadata": {},
   "outputs": [
    {
     "data": {
      "text/plain": [
       "(50000, 784)"
      ]
     },
     "execution_count": 3,
     "metadata": {},
     "output_type": "execute_result"
    }
   ],
   "source": [
    "x_train.shape"
   ]
  },
  {
   "cell_type": "code",
   "execution_count": 4,
   "metadata": {},
   "outputs": [
    {
     "data": {
      "text/plain": [
       "(50000,)"
      ]
     },
     "execution_count": 4,
     "metadata": {},
     "output_type": "execute_result"
    }
   ],
   "source": [
    "y_train.shape"
   ]
  },
  {
   "cell_type": "code",
   "execution_count": 5,
   "metadata": {},
   "outputs": [
    {
     "name": "stdout",
     "output_type": "stream",
     "text": [
      "9\n"
     ]
    },
    {
     "data": {
      "image/png": "[encoded data removed]",
      "text/plain": [
       "<Figure size 432x288 with 1 Axes>"
      ]
     },
     "metadata": {
      "needs_background": "light"
     },
     "output_type": "display_data"
    }
   ],
   "source": [
    "from matplotlib import pyplot\n",
    "import numpy as np\n",
    "\n",
    "example = 43\n",
    "pyplot.imshow(x_train[example].reshape((28, 28)), cmap=\"gray\")\n",
    "print(y_train[example])"
   ]
  },
  {
   "cell_type": "code",
   "execution_count": 6,
   "metadata": {},
   "outputs": [],
   "source": [
    "import torch\n",
    "\n",
    "# convert to torch tensors:\n",
    "x_train, y_train, x_valid, y_valid = map(\n",
    "    torch.tensor, (x_train, y_train, x_valid, y_valid)\n",
    "    )"
   ]
  },
  {
   "cell_type": "markdown",
   "metadata": {},
   "source": [
    "# `TensorDataset`"
   ]
  },
  {
   "cell_type": "markdown",
   "metadata": {},
   "source": [
    "A tensor as a list of (x,y) pairs."
   ]
  },
  {
   "cell_type": "code",
   "execution_count": 7,
   "metadata": {},
   "outputs": [],
   "source": [
    "from torch.utils.data import TensorDataset\n",
    "\n",
    "train_ds = TensorDataset(x_train, y_train)"
   ]
  },
  {
   "cell_type": "code",
   "execution_count": 8,
   "metadata": {},
   "outputs": [
    {
     "data": {
      "text/plain": [
       "50000"
      ]
     },
     "execution_count": 8,
     "metadata": {},
     "output_type": "execute_result"
    }
   ],
   "source": [
    "len(train_ds) # number of examples"
   ]
  },
  {
   "cell_type": "code",
   "execution_count": 9,
   "metadata": {},
   "outputs": [
    {
     "data": {
      "text/plain": [
       "2"
      ]
     },
     "execution_count": 9,
     "metadata": {},
     "output_type": "execute_result"
    }
   ],
   "source": [
    "len(train_ds[0]) # flat + label"
   ]
  },
  {
   "cell_type": "code",
   "execution_count": 10,
   "metadata": {},
   "outputs": [
    {
     "data": {
      "text/plain": [
       "torch.Size([784])"
      ]
     },
     "execution_count": 10,
     "metadata": {},
     "output_type": "execute_result"
    }
   ],
   "source": [
    "train_ds[0][0].shape # flat"
   ]
  },
  {
   "cell_type": "code",
   "execution_count": 11,
   "metadata": {},
   "outputs": [
    {
     "data": {
      "text/plain": [
       "torch.Size([])"
      ]
     },
     "execution_count": 11,
     "metadata": {},
     "output_type": "execute_result"
    }
   ],
   "source": [
    "train_ds[0][1].shape # label"
   ]
  },
  {
   "cell_type": "markdown",
   "metadata": {},
   "source": [
    "# `DataLoader`\n",
    "For **batching**. Very needed."
   ]
  },
  {
   "cell_type": "code",
   "execution_count": 12,
   "metadata": {},
   "outputs": [],
   "source": [
    "from torch.utils.data import DataLoader\n",
    "\n",
    "bs = 64 # batch size\n",
    "train_dl = DataLoader(train_ds, batch_size=bs, shuffle=True)"
   ]
  },
  {
   "cell_type": "markdown",
   "metadata": {},
   "source": [
    "Notice that `shuffle=True` will shuffle the whole data at each epoch."
   ]
  },
  {
   "cell_type": "code",
   "execution_count": 13,
   "metadata": {},
   "outputs": [
    {
     "data": {
      "text/plain": [
       "782"
      ]
     },
     "execution_count": 13,
     "metadata": {},
     "output_type": "execute_result"
    }
   ],
   "source": [
    "len(train_dl) # number of batches"
   ]
  },
  {
   "cell_type": "code",
   "execution_count": 14,
   "metadata": {},
   "outputs": [
    {
     "data": {
      "text/plain": [
       "782"
      ]
     },
     "execution_count": 14,
     "metadata": {},
     "output_type": "execute_result"
    }
   ],
   "source": [
    "# double check\n",
    "import math\n",
    "math.ceil(len(train_ds) / 64)"
   ]
  },
  {
   "cell_type": "code",
   "execution_count": 15,
   "metadata": {},
   "outputs": [
    {
     "data": {
      "text/plain": [
       "64"
      ]
     },
     "execution_count": 15,
     "metadata": {},
     "output_type": "execute_result"
    }
   ],
   "source": [
    "train_dl.batch_size"
   ]
  },
  {
   "cell_type": "code",
   "execution_count": 16,
   "metadata": {},
   "outputs": [
    {
     "data": {
      "text/plain": [
       "[tensor([[0., 0., 0.,  ..., 0., 0., 0.],\n",
       "         [0., 0., 0.,  ..., 0., 0., 0.],\n",
       "         [0., 0., 0.,  ..., 0., 0., 0.],\n",
       "         ...,\n",
       "         [0., 0., 0.,  ..., 0., 0., 0.],\n",
       "         [0., 0., 0.,  ..., 0., 0., 0.],\n",
       "         [0., 0., 0.,  ..., 0., 0., 0.]]),\n",
       " tensor([2, 9, 7, 2, 9, 6, 3, 4, 8, 8, 0, 7, 1, 7, 2, 1, 6, 3, 1, 2, 5, 4, 1, 6,\n",
       "         3, 8, 3, 8, 4, 2, 9, 9, 2, 7, 6, 9, 1, 2, 6, 0, 7, 1, 6, 2, 3, 8, 0, 4,\n",
       "         6, 5, 6, 2, 9, 1, 4, 5, 9, 2, 3, 4, 1, 4, 7, 1])]"
      ]
     },
     "execution_count": 16,
     "metadata": {},
     "output_type": "execute_result"
    }
   ],
   "source": [
    "list(train_dl)[0] # first batch\n",
    "# run this cell each time shows a different batch bcz of shuffle=True"
   ]
  },
  {
   "cell_type": "markdown",
   "metadata": {},
   "source": [
    "You can loop over `train_dl` like this:\n",
    "```python\n",
    "for epoch in range(epochs):\n",
    "    \n",
    "    for xb, yb in train_dl: # one batch at a time\n",
    "        pred = model(xb)\n",
    "        loss = loss_func(pred, yb)\n",
    "\n",
    "        loss.backward()\n",
    "        opt.step()\n",
    "        opt.zero_grad()\n",
    "\n",
    "```"
   ]
  },
  {
   "cell_type": "markdown",
   "metadata": {},
   "source": [
    "# `model.train()`,  `model.eval()`"
   ]
  },
  {
   "cell_type": "markdown",
   "metadata": {},
   "source": [
    "Layers like **dropout, batchnorm** etc. behave differently on the train and test/val time.\\\n",
    "We need a flag to tell torch when it is train mode or test/val mode.\\\n",
    "`model.train()` sets this flag to `mode=True`, by default.\\\n",
    "`model.eval()` set `mode=False`. Use it during validation/testing."
   ]
  },
  {
   "cell_type": "markdown",
   "metadata": {},
   "source": [
    "```python\n",
    "for epoch in range(epochs):\n",
    "    \n",
    "    # train\n",
    "    model.train()\n",
    "    for xb, yb in train_dl:\n",
    "        pred = model(xb)\n",
    "        loss = loss_func(pred, yb)\n",
    "\n",
    "        loss.backward()\n",
    "        opt.step()\n",
    "        opt.zero_grad()\n",
    "\n",
    "    # validation\n",
    "    model.eval()\n",
    "    with torch.no_grad():\n",
    "        valid_loss = sum(loss_func(model(xb), yb) for xb, yb in valid_dl)\n",
    "        \n",
    "    print(epoch, valid_loss / len(valid_dl))\n",
    "\n",
    "```"
   ]
  },
  {
   "cell_type": "markdown",
   "metadata": {},
   "source": [
    "About validation set: can also use `DataLoader` here with bigger batch size, as we are not doing optimization on it.\n",
    "```python\n",
    "valid_ds = TensorDataset(x_valid, y_valid)\n",
    "valid_dl = DataLoader(valid_ds, batch_size=bs * 2)\n",
    "```"
   ]
  },
  {
   "cell_type": "markdown",
   "metadata": {},
   "source": [
    "# don't repeat yourself. Build helpers."
   ]
  },
  {
   "cell_type": "markdown",
   "metadata": {},
   "source": [
    "Sick of the train code? Refactor it:\n",
    "- create a fit **function** that takes model, train, val, epochs, opt, loss as functions\n",
    "- create a fit **method** in your custom modle class (assume that you created a custom model)."
   ]
  },
  {
   "cell_type": "markdown",
   "metadata": {},
   "source": [
    "A fit function should be enough:"
   ]
  },
  {
   "cell_type": "code",
   "execution_count": 17,
   "metadata": {},
   "outputs": [],
   "source": [
    "import numpy as np\n",
    "\n",
    "def loss_batch(model, loss_func, xb, yb, opt=None):\n",
    "    \"\"\"\n",
    "    Helper for fit\n",
    "    Compute loss for a batch using loss_func\n",
    "    \"\"\"\n",
    "    loss = loss_func(model(xb), yb)\n",
    "\n",
    "    if opt is not None:\n",
    "        loss.backward()\n",
    "        opt.step()\n",
    "        opt.zero_grad()\n",
    "\n",
    "    return loss.item(), len(xb)\n",
    "                            \n",
    "def fit(model, train_dl, loss_func, opt, epochs=10, valid_dl=None):\n",
    "    train_history = []\n",
    "    val_history = []\n",
    "    for epoch in range(epochs):\n",
    "        \n",
    "        model.train()\n",
    "        \n",
    "        tr_losses, tr_nums = zip(\n",
    "                *[loss_batch(model, loss_func, xb, yb, opt) for xb, yb in train_dl]\n",
    "            )\n",
    "        train_loss = np.sum(np.multiply(tr_losses, tr_nums)) / np.sum(tr_nums)\n",
    "            \n",
    "\n",
    "        model.eval()\n",
    "        \n",
    "        with torch.no_grad():\n",
    "            losses, nums = zip(\n",
    "                *[loss_batch(model, loss_func, xb, yb) for xb, yb in valid_dl]\n",
    "            )\n",
    "        val_loss = np.sum(np.multiply(losses, nums)) / np.sum(nums)\n",
    "\n",
    "        train_history.append(train_loss)\n",
    "        val_history.append(val_loss)\n",
    "        \n",
    "        print(f'epoch: {epoch}, train_loss: {train_loss}, val_loss: {val_loss}')\n",
    "    \n",
    "    history = (train_history, val_history)\n",
    "    return history"
   ]
  },
  {
   "cell_type": "markdown",
   "metadata": {},
   "source": [
    "# All in one"
   ]
  },
  {
   "cell_type": "markdown",
   "metadata": {},
   "source": [
    "Define a CNN that takes batches of numpy images and return softmax vectors."
   ]
  },
  {
   "cell_type": "code",
   "execution_count": 18,
   "metadata": {},
   "outputs": [],
   "source": [
    "import torch\n",
    "import torch.nn as nn\n",
    "import torch.nn.functional as F\n",
    "\n",
    "from torchvision import models\n",
    "from torchsummary import summary\n",
    "\n",
    "device = torch.device(\"cuda\" if torch.cuda.is_available() else \"cpu\") # PyTorch v0.4.0"
   ]
  },
  {
   "cell_type": "code",
   "execution_count": 19,
   "metadata": {},
   "outputs": [],
   "source": [
    "\n",
    "class Net(nn.Module):\n",
    "    \"\"\"\n",
    "    take input size ?, 1, 28, 28\n",
    "    \"\"\"\n",
    "\n",
    "    def __init__(self):\n",
    "        \n",
    "        super(Net, self).__init__()\n",
    "        # 1 input image channel, 6 output channels, 3x3 square convolution\n",
    "        # kernel\n",
    "        \n",
    "        self.conv1 = nn.Conv2d(1, 6, 3) # input's depth, filters, kernel_size\n",
    "        self.conv2 = nn.Conv2d(6, 16, 3)\n",
    "        self.fc1 = nn.Linear(16 * 5 * 5, 128) \n",
    "        self.fc2 = nn.Linear(128, 10)\n",
    "\n",
    "    def forward(self, x):\n",
    "        \n",
    "        x = x.view(-1, 1, 28, 28)\n",
    "        \n",
    "        # Max pooling over a (2, 2) window\n",
    "        x = F.relu(self.conv1(x))\n",
    "        x = F.max_pool2d(x, (2, 2))\n",
    "        \n",
    "        x = F.relu(self.conv2(x))\n",
    "        \n",
    "        # If the size is a square you can just specify a single number\n",
    "        x = F.max_pool2d(x, 2)\n",
    "        \n",
    "        # alternatively:\n",
    "        x = nn.Flatten()(x)\n",
    "\n",
    "        x = F.relu(self.fc1(x))\n",
    "        x = F.softmax(self.fc2(x), dim=1)\n",
    "        return x\n"
   ]
  },
  {
   "cell_type": "code",
   "execution_count": 20,
   "metadata": {},
   "outputs": [
    {
     "name": "stdout",
     "output_type": "stream",
     "text": [
      "----------------------------------------------------------------\n",
      "        Layer (type)               Output Shape         Param #\n",
      "================================================================\n",
      "            Conv2d-1            [-1, 6, 26, 26]              60\n",
      "            Conv2d-2           [-1, 16, 11, 11]             880\n",
      "            Linear-3                  [-1, 128]          51,328\n",
      "            Linear-4                   [-1, 10]           1,290\n",
      "================================================================\n",
      "Total params: 53,558\n",
      "Trainable params: 53,558\n",
      "Non-trainable params: 0\n",
      "----------------------------------------------------------------\n",
      "Input size (MB): 0.00\n",
      "Forward/backward pass size (MB): 0.05\n",
      "Params size (MB): 0.20\n",
      "Estimated Total Size (MB): 0.25\n",
      "----------------------------------------------------------------\n"
     ]
    }
   ],
   "source": [
    "net = Net().to(device)\n",
    "\n",
    "summary(net, (1, 28, 28))"
   ]
  },
  {
   "cell_type": "code",
   "execution_count": 21,
   "metadata": {},
   "outputs": [
    {
     "data": {
      "text/plain": [
       "True"
      ]
     },
     "execution_count": 21,
     "metadata": {},
     "output_type": "execute_result"
    }
   ],
   "source": [
    "next(net.parameters()).is_cuda"
   ]
  },
  {
   "cell_type": "code",
   "execution_count": 22,
   "metadata": {},
   "outputs": [],
   "source": [
    "loss_func = nn.CrossEntropyLoss()"
   ]
  },
  {
   "cell_type": "code",
   "execution_count": 23,
   "metadata": {},
   "outputs": [],
   "source": [
    "xb, yb = list(train_dl)[0]\n",
    "xb = xb.to(device)\n",
    "yb = yb.to(device)"
   ]
  },
  {
   "cell_type": "code",
   "execution_count": 24,
   "metadata": {},
   "outputs": [],
   "source": [
    "output = net(xb)"
   ]
  },
  {
   "cell_type": "code",
   "execution_count": 25,
   "metadata": {},
   "outputs": [
    {
     "data": {
      "text/plain": [
       "tensor(2.3016, device='cuda:0', grad_fn=<NllLossBackward>)"
      ]
     },
     "execution_count": 25,
     "metadata": {},
     "output_type": "execute_result"
    }
   ],
   "source": [
    "loss_func(output, yb)"
   ]
  },
  {
   "cell_type": "code",
   "execution_count": 26,
   "metadata": {},
   "outputs": [
    {
     "data": {
      "text/plain": [
       "torch.Size([64, 10])"
      ]
     },
     "execution_count": 26,
     "metadata": {},
     "output_type": "execute_result"
    }
   ],
   "source": [
    "output.shape"
   ]
  },
  {
   "cell_type": "code",
   "execution_count": 27,
   "metadata": {},
   "outputs": [
    {
     "data": {
      "text/plain": [
       "torch.Size([64])"
      ]
     },
     "execution_count": 27,
     "metadata": {},
     "output_type": "execute_result"
    }
   ],
   "source": [
    "yb.shape"
   ]
  },
  {
   "cell_type": "markdown",
   "metadata": {},
   "source": [
    "It is really nice that `nn.CrossEntropyLoss` let us pass a softmax vector and target of different shape. Here:\n",
    "- `yb`: Must be class indices, ranging from 0 to C - 1 (C is the number of classes)\\\n",
    "Depends on your dataset, you may have to change your labels to conform to this format.\\\n",
    "Here we don't need to, because yb is both the index and the label (we are classifying number).\n",
    "\n",
    "- For visualization, we may need to convert softmax vectors to label indices, and compute accuracy also. Would be nice if we can show accuracy during each epoch as well. For now it is ok to just print it at the end."
   ]
  },
  {
   "cell_type": "code",
   "execution_count": 28,
   "metadata": {},
   "outputs": [],
   "source": [
    "def accuracy(out, yb):\n",
    "    \"\"\"\n",
    "    out: softmax vectors dim (?, C)\n",
    "    yb: labels dim (?) with yb[i] = 0,1...C-1\n",
    "    \"\"\"\n",
    "    preds = torch.argmax(out, dim=1) # softmax --> labels\n",
    "    return (preds == yb).float().mean()"
   ]
  },
  {
   "cell_type": "code",
   "execution_count": 29,
   "metadata": {},
   "outputs": [
    {
     "data": {
      "text/plain": [
       "tensor(0.2188, device='cuda:0')"
      ]
     },
     "execution_count": 29,
     "metadata": {},
     "output_type": "execute_result"
    }
   ],
   "source": [
    "accuracy(output, yb)"
   ]
  },
  {
   "cell_type": "code",
   "execution_count": 30,
   "metadata": {},
   "outputs": [
    {
     "name": "stdout",
     "output_type": "stream",
     "text": [
      "0.09375\n",
      "0.078125\n",
      "0.109375\n",
      "0.21875\n",
      "0.15625\n",
      "0.0625\n",
      "0.140625\n",
      "0.09375\n",
      "0.15625\n",
      "0.09375\n",
      "0.09375\n",
      "0.109375\n",
      "0.140625\n",
      "0.125\n",
      "0.15625\n",
      "0.1875\n",
      "0.078125\n",
      "0.09375\n",
      "0.109375\n",
      "0.09375\n",
      "0.140625\n",
      "0.171875\n",
      "0.046875\n",
      "0.140625\n",
      "0.109375\n",
      "0.1875\n",
      "0.0625\n",
      "0.140625\n",
      "0.09375\n",
      "0.078125\n",
      "0.078125\n",
      "0.09375\n",
      "0.125\n",
      "0.1875\n",
      "0.109375\n",
      "0.09375\n",
      "0.0625\n",
      "0.140625\n",
      "0.109375\n",
      "0.09375\n",
      "0.09375\n",
      "0.078125\n",
      "0.15625\n",
      "0.171875\n",
      "0.09375\n",
      "0.109375\n",
      "0.15625\n",
      "0.09375\n",
      "0.140625\n",
      "0.140625\n",
      "0.09375\n",
      "0.109375\n",
      "0.09375\n",
      "0.109375\n",
      "0.125\n",
      "0.09375\n",
      "0.078125\n",
      "0.09375\n",
      "0.15625\n",
      "0.171875\n",
      "0.0625\n",
      "0.09375\n",
      "0.109375\n",
      "0.0625\n",
      "0.15625\n",
      "0.171875\n",
      "0.109375\n",
      "0.109375\n",
      "0.125\n",
      "0.125\n",
      "0.078125\n",
      "0.046875\n",
      "0.125\n",
      "0.15625\n",
      "0.0625\n",
      "0.140625\n",
      "0.078125\n",
      "0.15625\n",
      "0.140625\n",
      "0.109375\n",
      "0.140625\n",
      "0.109375\n",
      "0.125\n",
      "0.078125\n",
      "0.203125\n",
      "0.125\n",
      "0.0625\n",
      "0.15625\n",
      "0.09375\n",
      "0.09375\n",
      "0.09375\n",
      "0.171875\n",
      "0.109375\n",
      "0.140625\n",
      "0.09375\n",
      "0.09375\n",
      "0.140625\n",
      "0.09375\n",
      "0.09375\n",
      "0.140625\n",
      "0.125\n",
      "0.078125\n",
      "0.015625\n",
      "0.15625\n",
      "0.140625\n",
      "0.0625\n",
      "0.109375\n",
      "0.078125\n",
      "0.109375\n",
      "0.109375\n",
      "0.125\n",
      "0.15625\n",
      "0.109375\n",
      "0.125\n",
      "0.125\n",
      "0.1875\n",
      "0.140625\n",
      "0.0625\n",
      "0.109375\n",
      "0.15625\n",
      "0.171875\n",
      "0.078125\n",
      "0.109375\n",
      "0.046875\n",
      "0.09375\n",
      "0.1875\n",
      "0.21875\n",
      "0.109375\n",
      "0.09375\n",
      "0.09375\n",
      "0.140625\n",
      "0.09375\n",
      "0.125\n",
      "0.140625\n",
      "0.109375\n",
      "0.125\n",
      "0.109375\n",
      "0.109375\n",
      "0.09375\n",
      "0.109375\n",
      "0.15625\n",
      "0.171875\n",
      "0.09375\n",
      "0.09375\n",
      "0.125\n",
      "0.078125\n",
      "0.125\n",
      "0.09375\n",
      "0.125\n",
      "0.125\n",
      "0.0625\n",
      "0.078125\n",
      "0.15625\n",
      "0.03125\n",
      "0.125\n",
      "0.140625\n",
      "0.109375\n",
      "0.15625\n",
      "0.140625\n",
      "0.203125\n",
      "0.140625\n",
      "0.09375\n",
      "0.171875\n",
      "0.125\n",
      "0.078125\n",
      "0.140625\n",
      "0.078125\n",
      "0.15625\n",
      "0.078125\n",
      "0.078125\n",
      "0.09375\n",
      "0.09375\n",
      "0.125\n",
      "0.109375\n",
      "0.140625\n",
      "0.09375\n",
      "0.0625\n",
      "0.15625\n",
      "0.109375\n",
      "0.203125\n",
      "0.1875\n",
      "0.125\n",
      "0.203125\n",
      "0.078125\n",
      "0.1875\n",
      "0.046875\n",
      "0.078125\n",
      "0.03125\n",
      "0.125\n",
      "0.09375\n",
      "0.046875\n",
      "0.078125\n",
      "0.15625\n",
      "0.078125\n",
      "0.125\n",
      "0.078125\n",
      "0.140625\n",
      "0.078125\n",
      "0.171875\n",
      "0.09375\n",
      "0.03125\n",
      "0.09375\n",
      "0.140625\n",
      "0.15625\n",
      "0.140625\n",
      "0.15625\n",
      "0.046875\n",
      "0.109375\n",
      "0.125\n",
      "0.25\n",
      "0.125\n",
      "0.09375\n",
      "0.046875\n",
      "0.046875\n",
      "0.109375\n",
      "0.09375\n",
      "0.09375\n",
      "0.078125\n",
      "0.09375\n",
      "0.109375\n",
      "0.078125\n",
      "0.109375\n",
      "0.109375\n",
      "0.171875\n",
      "0.125\n",
      "0.125\n",
      "0.09375\n",
      "0.109375\n",
      "0.09375\n",
      "0.09375\n",
      "0.15625\n",
      "0.15625\n",
      "0.125\n",
      "0.109375\n",
      "0.09375\n",
      "0.0625\n",
      "0.125\n",
      "0.109375\n",
      "0.0625\n",
      "0.15625\n",
      "0.125\n",
      "0.140625\n",
      "0.078125\n",
      "0.109375\n",
      "0.109375\n",
      "0.140625\n",
      "0.09375\n",
      "0.078125\n",
      "0.140625\n",
      "0.046875\n",
      "0.046875\n",
      "0.09375\n",
      "0.140625\n",
      "0.125\n",
      "0.109375\n",
      "0.15625\n",
      "0.078125\n",
      "0.140625\n",
      "0.09375\n",
      "0.109375\n",
      "0.078125\n",
      "0.09375\n",
      "0.078125\n",
      "0.078125\n",
      "0.078125\n",
      "0.125\n",
      "0.09375\n",
      "0.109375\n",
      "0.140625\n",
      "0.09375\n",
      "0.125\n",
      "0.09375\n",
      "0.171875\n",
      "0.109375\n",
      "0.09375\n",
      "0.15625\n",
      "0.03125\n",
      "0.09375\n",
      "0.09375\n",
      "0.125\n",
      "0.15625\n",
      "0.140625\n",
      "0.125\n",
      "0.171875\n",
      "0.109375\n",
      "0.171875\n",
      "0.09375\n",
      "0.125\n",
      "0.109375\n",
      "0.15625\n",
      "0.109375\n",
      "0.0625\n",
      "0.09375\n",
      "0.0625\n",
      "0.046875\n",
      "0.09375\n",
      "0.078125\n",
      "0.125\n",
      "0.140625\n",
      "0.109375\n",
      "0.125\n",
      "0.125\n",
      "0.15625\n",
      "0.125\n",
      "0.140625\n",
      "0.078125\n",
      "0.15625\n",
      "0.09375\n",
      "0.140625\n",
      "0.15625\n",
      "0.046875\n",
      "0.15625\n",
      "0.125\n",
      "0.078125\n",
      "0.109375\n",
      "0.109375\n",
      "0.09375\n",
      "0.109375\n",
      "0.15625\n",
      "0.09375\n",
      "0.15625\n",
      "0.046875\n",
      "0.125\n",
      "0.125\n",
      "0.0625\n",
      "0.140625\n",
      "0.09375\n",
      "0.09375\n",
      "0.0625\n",
      "0.09375\n",
      "0.046875\n",
      "0.09375\n",
      "0.109375\n",
      "0.09375\n",
      "0.109375\n",
      "0.046875\n",
      "0.109375\n",
      "0.0625\n",
      "0.15625\n",
      "0.09375\n",
      "0.109375\n",
      "0.109375\n",
      "0.0625\n",
      "0.15625\n",
      "0.078125\n",
      "0.09375\n",
      "0.171875\n",
      "0.125\n",
      "0.171875\n",
      "0.046875\n",
      "0.09375\n",
      "0.109375\n",
      "0.09375\n",
      "0.0625\n",
      "0.0625\n",
      "0.09375\n",
      "0.109375\n",
      "0.125\n",
      "0.09375\n",
      "0.046875\n",
      "0.140625\n",
      "0.046875\n",
      "0.109375\n",
      "0.078125\n",
      "0.15625\n",
      "0.125\n",
      "0.046875\n",
      "0.078125\n",
      "0.078125\n",
      "0.140625\n",
      "0.140625\n",
      "0.140625\n",
      "0.203125\n",
      "0.15625\n",
      "0.140625\n",
      "0.0625\n",
      "0.078125\n",
      "0.15625\n",
      "0.09375\n",
      "0.09375\n",
      "0.125\n",
      "0.109375\n",
      "0.0625\n",
      "0.140625\n",
      "0.078125\n",
      "0.078125\n",
      "0.125\n",
      "0.140625\n",
      "0.078125\n",
      "0.125\n",
      "0.03125\n",
      "0.15625\n",
      "0.09375\n",
      "0.15625\n",
      "0.109375\n",
      "0.140625\n",
      "0.140625\n",
      "0.0625\n",
      "0.125\n",
      "0.140625\n",
      "0.125\n",
      "0.125\n",
      "0.171875\n",
      "0.125\n",
      "0.109375\n",
      "0.078125\n",
      "0.1875\n",
      "0.125\n",
      "0.140625\n",
      "0.171875\n",
      "0.125\n",
      "0.15625\n",
      "0.15625\n",
      "0.109375\n",
      "0.171875\n",
      "0.09375\n",
      "0.09375\n",
      "0.046875\n",
      "0.171875\n",
      "0.203125\n",
      "0.140625\n",
      "0.078125\n",
      "0.0625\n",
      "0.0625\n",
      "0.0625\n",
      "0.125\n",
      "0.0625\n",
      "0.15625\n",
      "0.09375\n",
      "0.125\n",
      "0.109375\n",
      "0.109375\n",
      "0.125\n",
      "0.1875\n",
      "0.125\n",
      "0.171875\n",
      "0.140625\n",
      "0.09375\n",
      "0.046875\n",
      "0.109375\n",
      "0.0625\n",
      "0.0625\n",
      "0.140625\n",
      "0.109375\n",
      "0.09375\n",
      "0.09375\n",
      "0.125\n",
      "0.0625\n",
      "0.140625\n",
      "0.0625\n",
      "0.09375\n",
      "0.046875\n",
      "0.078125\n",
      "0.09375\n",
      "0.03125\n",
      "0.09375\n",
      "0.09375\n",
      "0.078125\n",
      "0.09375\n",
      "0.109375\n",
      "0.125\n",
      "0.140625\n",
      "0.125\n",
      "0.140625\n",
      "0.15625\n",
      "0.078125\n",
      "0.171875\n",
      "0.109375\n",
      "0.09375\n",
      "0.140625\n",
      "0.09375\n",
      "0.125\n",
      "0.109375\n",
      "0.109375\n",
      "0.078125\n",
      "0.125\n",
      "0.125\n",
      "0.078125\n",
      "0.125\n",
      "0.09375\n",
      "0.09375\n",
      "0.171875\n",
      "0.109375\n",
      "0.125\n",
      "0.109375\n",
      "0.09375\n",
      "0.09375\n",
      "0.109375\n",
      "0.140625\n",
      "0.078125\n",
      "0.15625\n",
      "0.109375\n",
      "0.140625\n",
      "0.109375\n",
      "0.03125\n",
      "0.109375\n",
      "0.09375\n",
      "0.09375\n",
      "0.125\n",
      "0.0625\n",
      "0.125\n",
      "0.09375\n",
      "0.171875\n",
      "0.140625\n",
      "0.09375\n",
      "0.125\n",
      "0.09375\n",
      "0.15625\n",
      "0.09375\n",
      "0.140625\n",
      "0.09375\n",
      "0.109375\n",
      "0.109375\n",
      "0.140625\n",
      "0.078125\n",
      "0.109375\n",
      "0.140625\n",
      "0.09375\n",
      "0.078125\n",
      "0.125\n",
      "0.078125\n",
      "0.109375\n",
      "0.203125\n",
      "0.140625\n",
      "0.109375\n",
      "0.140625\n",
      "0.15625\n",
      "0.125\n",
      "0.15625\n",
      "0.078125\n",
      "0.15625\n",
      "0.15625\n",
      "0.125\n",
      "0.109375\n",
      "0.09375\n",
      "0.03125\n",
      "0.125\n",
      "0.09375\n",
      "0.078125\n",
      "0.09375\n",
      "0.140625\n",
      "0.046875\n",
      "0.125\n",
      "0.140625\n",
      "0.046875\n",
      "0.078125\n",
      "0.109375\n",
      "0.09375\n",
      "0.09375\n",
      "0.0625\n",
      "0.125\n",
      "0.125\n",
      "0.078125\n",
      "0.109375\n",
      "0.078125\n",
      "0.078125\n",
      "0.140625\n",
      "0.109375\n",
      "0.171875\n",
      "0.078125\n",
      "0.109375\n",
      "0.046875\n",
      "0.15625\n",
      "0.0625\n",
      "0.125\n",
      "0.078125\n",
      "0.140625\n",
      "0.15625\n",
      "0.109375\n",
      "0.09375\n",
      "0.078125\n",
      "0.125\n",
      "0.09375\n",
      "0.125\n",
      "0.1875\n",
      "0.0625\n",
      "0.171875\n",
      "0.0625\n",
      "0.09375\n",
      "0.1875\n",
      "0.15625\n",
      "0.109375\n",
      "0.125\n",
      "0.140625\n",
      "0.140625\n",
      "0.125\n",
      "0.09375\n",
      "0.078125\n",
      "0.234375\n",
      "0.09375\n",
      "0.109375\n",
      "0.109375\n",
      "0.046875\n",
      "0.125\n",
      "0.046875\n",
      "0.109375\n",
      "0.140625\n",
      "0.09375\n",
      "0.0625\n",
      "0.078125\n",
      "0.09375\n",
      "0.03125\n",
      "0.125\n",
      "0.109375\n",
      "0.03125\n",
      "0.0625\n",
      "0.109375\n",
      "0.09375\n",
      "0.09375\n",
      "0.171875\n",
      "0.078125\n",
      "0.078125\n",
      "0.078125\n",
      "0.109375\n",
      "0.171875\n",
      "0.09375\n",
      "0.1875\n",
      "0.125\n",
      "0.109375\n",
      "0.140625\n",
      "0.09375\n",
      "0.015625\n",
      "0.140625\n",
      "0.125\n",
      "0.03125\n",
      "0.0625\n",
      "0.125\n",
      "0.09375\n",
      "0.109375\n",
      "0.109375\n",
      "0.125\n",
      "0.046875\n",
      "0.109375\n",
      "0.0625\n",
      "0.109375\n",
      "0.078125\n",
      "0.140625\n",
      "0.09375\n",
      "0.15625\n",
      "0.0625\n",
      "0.171875\n",
      "0.15625\n",
      "0.1875\n",
      "0.078125\n",
      "0.171875\n",
      "0.109375\n",
      "0.125\n",
      "0.09375\n",
      "0.171875\n",
      "0.140625\n",
      "0.0625\n",
      "0.140625\n",
      "0.1875\n",
      "0.140625\n",
      "0.046875\n",
      "0.171875\n",
      "0.09375\n",
      "0.09375\n",
      "0.140625\n",
      "0.15625\n",
      "0.046875\n",
      "0.078125\n",
      "0.03125\n",
      "0.125\n",
      "0.125\n",
      "0.09375\n",
      "0.171875\n",
      "0.125\n",
      "0.140625\n",
      "0.109375\n",
      "0.171875\n",
      "0.03125\n",
      "0.140625\n",
      "0.125\n",
      "0.0625\n",
      "0.109375\n",
      "0.078125\n",
      "0.140625\n",
      "0.140625\n",
      "0.171875\n",
      "0.109375\n",
      "0.078125\n",
      "0.140625\n",
      "0.109375\n",
      "0.078125\n",
      "0.1875\n",
      "0.09375\n",
      "0.140625\n",
      "0.03125\n",
      "0.140625\n",
      "0.140625\n",
      "0.078125\n",
      "0.09375\n",
      "0.203125\n",
      "0.0625\n",
      "0.078125\n",
      "0.078125\n",
      "0.109375\n",
      "0.0625\n",
      "0.109375\n",
      "0.140625\n",
      "0.09375\n",
      "0.078125\n",
      "0.046875\n",
      "0.09375\n",
      "0.078125\n",
      "0.140625\n",
      "0.15625\n",
      "0.125\n",
      "0.078125\n",
      "0.078125\n",
      "0.09375\n",
      "0.125\n",
      "0.125\n",
      "0.125\n",
      "0.0625\n",
      "0.078125\n",
      "0.09375\n",
      "0.09375\n",
      "0.0625\n",
      "0.09375\n",
      "0.109375\n",
      "0.109375\n",
      "0.125\n",
      "0.140625\n",
      "0.078125\n",
      "0.078125\n",
      "0.078125\n",
      "0.203125\n",
      "0.078125\n",
      "0.125\n",
      "0.0625\n",
      "0.140625\n",
      "0.09375\n",
      "0.140625\n",
      "0.125\n",
      "0.09375\n",
      "0.0625\n",
      "0.125\n",
      "0.140625\n",
      "0.0625\n",
      "0.109375\n",
      "0.09375\n",
      "0.15625\n",
      "0.09375\n",
      "0.078125\n",
      "0.0625\n",
      "0.125\n",
      "0.09375\n",
      "0.109375\n",
      "0.109375\n",
      "0.125\n",
      "0.0625\n",
      "0.078125\n",
      "0.125\n",
      "0.0625\n",
      "0.0625\n",
      "0.078125\n",
      "0.140625\n",
      "0.09375\n",
      "0.15625\n",
      "0.03125\n",
      "0.125\n",
      "0.109375\n",
      "0.078125\n",
      "0.109375\n",
      "0.125\n",
      "0.109375\n",
      "0.140625\n",
      "0.140625\n",
      "0.1875\n",
      "0.125\n",
      "0.078125\n",
      "0.03125\n",
      "0.109375\n",
      "0.078125\n",
      "0.078125\n",
      "0.078125\n",
      "0.140625\n",
      "0.140625\n",
      "0.03125\n",
      "0.125\n"
     ]
    }
   ],
   "source": [
    "# Show accuracy for all batches\n",
    "# expected to increase after training\n",
    "batches = iter(train_dl)\n",
    "\n",
    "for batch in batches:\n",
    "    \n",
    "    xb, yb = batch\n",
    "    xb = xb.to(device)\n",
    "    yb = yb.to(device)\n",
    "    \n",
    "    print(accuracy(net(xb), yb).item())"
   ]
  },
  {
   "cell_type": "markdown",
   "metadata": {},
   "source": [
    "We want to load ALL the data into `device`. When and where to do it? \\\n",
    "Can we do it in the training loop? Sure we can.\\\n",
    "Can we take a batch out of GPU after training on it, we could. Should we? I dunno?\\\n",
    "Can we do it in our lambda function? Yes we can, but that only works for input. When we compute the loss, accuracy, both `yb` and `output` must be in the same `device`."
   ]
  },
  {
   "cell_type": "markdown",
   "metadata": {},
   "source": [
    "Belows, we put all of them in device from the start."
   ]
  },
  {
   "cell_type": "code",
   "execution_count": 31,
   "metadata": {},
   "outputs": [],
   "source": [
    "# dataloaders to gpu\n",
    "\n",
    "\n",
    "def preprocess(x, y):\n",
    "    return x.to(device), y.to(device)\n",
    "\n",
    "\n",
    "class WrappedDataLoader:\n",
    "    def __init__(self, dl, func):\n",
    "        self.dl = dl\n",
    "        self.func = func\n",
    "\n",
    "    def __len__(self):\n",
    "        return len(self.dl)\n",
    "\n",
    "    def __iter__(self):\n",
    "        batches = iter(self.dl)\n",
    "        for b in batches:\n",
    "            yield (self.func(*b))\n",
    "\n",
    "train_ds = TensorDataset(x_train, y_train)\n",
    "train_dl = DataLoader(train_ds, batch_size=bs, shuffle=True)\n",
    "\n",
    "valid_ds = TensorDataset(x_valid, y_valid)\n",
    "valid_dl = DataLoader(valid_ds, batch_size=bs * 2)\n",
    "\n",
    "# to gpu\n",
    "train_dl = WrappedDataLoader(train_dl, preprocess)\n",
    "valid_dl = WrappedDataLoader(valid_dl, preprocess)"
   ]
  },
  {
   "cell_type": "code",
   "execution_count": 32,
   "metadata": {},
   "outputs": [
    {
     "name": "stdout",
     "output_type": "stream",
     "text": [
      "epoch: 0, train_loss: 1.6787176359176637, val_loss: 1.5895173076629638\n",
      "epoch: 1, train_loss: 1.5182633846282958, val_loss: 1.4957787641525269\n",
      "epoch: 2, train_loss: 1.4968842280578614, val_loss: 1.49022708568573\n",
      "epoch: 3, train_loss: 1.4910934843444825, val_loss: 1.4879058990478515\n",
      "epoch: 4, train_loss: 1.486659225463867, val_loss: 1.4832769107818604\n",
      "epoch: 5, train_loss: 1.4830427059173583, val_loss: 1.4809241144180298\n",
      "epoch: 6, train_loss: 1.4808132033920287, val_loss: 1.482196203994751\n",
      "epoch: 7, train_loss: 1.4796199643707275, val_loss: 1.48014649848938\n",
      "epoch: 8, train_loss: 1.478877621383667, val_loss: 1.4792995969772338\n",
      "epoch: 9, train_loss: 1.476932453842163, val_loss: 1.477655746459961\n",
      "epoch: 10, train_loss: 1.475439107131958, val_loss: 1.481100264930725\n",
      "epoch: 11, train_loss: 1.4743390644073486, val_loss: 1.4776422695159912\n",
      "epoch: 12, train_loss: 1.4738734788513184, val_loss: 1.4777868888854981\n",
      "epoch: 13, train_loss: 1.4720510172271728, val_loss: 1.476436173439026\n",
      "epoch: 14, train_loss: 1.4718342863464355, val_loss: 1.4750985431671142\n",
      "epoch: 15, train_loss: 1.4708773385620117, val_loss: 1.4762566287994385\n",
      "epoch: 16, train_loss: 1.4706946411132813, val_loss: 1.4763980159759522\n",
      "epoch: 17, train_loss: 1.4697231665802002, val_loss: 1.4754959857940675\n",
      "epoch: 18, train_loss: 1.4694959489440917, val_loss: 1.4741986377716065\n",
      "epoch: 19, train_loss: 1.4687773949432372, val_loss: 1.4748471881866454\n"
     ]
    }
   ],
   "source": [
    "from torch import optim\n",
    "\n",
    "model = net\n",
    "epochs = 20\n",
    "loss_func = nn.CrossEntropyLoss()\n",
    "opt = optim.Adam(net.parameters(), lr=1e-3)\n",
    "\n",
    "history = fit(model=model,\n",
    "    epochs=epochs, \n",
    "    loss_func=loss_func, opt=opt,\n",
    "    train_dl=train_dl,\n",
    "    valid_dl=valid_dl)"
   ]
  },
  {
   "cell_type": "code",
   "execution_count": 33,
   "metadata": {},
   "outputs": [
    {
     "name": "stdout",
     "output_type": "stream",
     "text": [
      "accuracy = 0.9939058503836317\n"
     ]
    }
   ],
   "source": [
    "# Accuracy for all batches should improve now\n",
    "batches = iter(train_dl) # remember not to re-use generators :>\n",
    "acc = 0\n",
    "count = 0\n",
    "\n",
    "for batch in batches:\n",
    "    count += len(batch)\n",
    "    xb, yb = batch\n",
    "    acc += (accuracy(net(xb), yb).item()) * len(batch)\n",
    "print('accuracy =', acc / count)\n"
   ]
  },
  {
   "cell_type": "code",
   "execution_count": 34,
   "metadata": {},
   "outputs": [
    {
     "data": {
      "image/png": "[encoded data removed]",
      "text/plain": [
       "<Figure size 432x288 with 1 Axes>"
      ]
     },
     "metadata": {
      "needs_background": "light"
     },
     "output_type": "display_data"
    }
   ],
   "source": [
    "pyplot.plot(history[0])\n",
    "pyplot.plot(history[1])\n",
    "pyplot.show()"
   ]
  },
  {
   "cell_type": "markdown",
   "metadata": {},
   "source": [
    "# Recap:\n",
    "- Use `Dataset` --> `DataLoader` for batching\n",
    "- helper functions: fit, accuracy can be re-used for other problems as well\n",
    "- model.train() and model.eval() to make sure batchnorm and dropout works correctly.\n",
    "- add data to gpu should be performed for all train-dev-test.\n",
    "- be aware of format for parameters in `nn.CrossEntropyLoss()`\n",
    "\n",
    "Problems not addressed:\n",
    "- What if images come in different shape? Assuming that we need to massage them before the forward pass, where we should do it? Using a Lambda layer or `preprocess` function is both ok I think."
   ]
  },
  {
   "cell_type": "code",
   "execution_count": null,
   "metadata": {},
   "outputs": [],
   "source": []
  }
 ],
 "metadata": {
  "kernelspec": {
   "display_name": "cvpy",
   "language": "python",
   "name": "cvpy"
  },
  "language_info": {
   "codemirror_mode": {
    "name": "ipython",
    "version": 3
   },
   "file_extension": ".py",
   "mimetype": "text/x-python",
   "name": "python",
   "nbconvert_exporter": "python",
   "pygments_lexer": "ipython3",
   "version": "3.7.6"
  },
  "toc": {
   "base_numbering": 1,
   "nav_menu": {},
   "number_sections": true,
   "sideBar": true,
   "skip_h1_title": false,
   "title_cell": "Table of Contents",
   "title_sidebar": "Contents",
   "toc_cell": false,
   "toc_position": {},
   "toc_section_display": true,
   "toc_window_display": false
  }
 },
 "nbformat": 4,
 "nbformat_minor": 4
}
